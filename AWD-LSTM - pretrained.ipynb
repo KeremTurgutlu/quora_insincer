{
 "cells": [
  {
   "cell_type": "code",
   "execution_count": 1,
   "metadata": {},
   "outputs": [],
   "source": [
    "%load_ext autoreload\n",
    "%autoreload 2\n",
    "%matplotlib inline"
   ]
  },
  {
   "cell_type": "code",
   "execution_count": 2,
   "metadata": {},
   "outputs": [],
   "source": [
    "from fastai.text import *"
   ]
  },
  {
   "cell_type": "code",
   "execution_count": 3,
   "metadata": {},
   "outputs": [],
   "source": [
    "data_path = Path(\"../data/quora/\")"
   ]
  },
  {
   "cell_type": "code",
   "execution_count": 4,
   "metadata": {},
   "outputs": [
    {
     "data": {
      "text/plain": [
       "[PosixPath('../data/quora/train.csv'),\n",
       " PosixPath('../data/quora/sample_submission.csv'),\n",
       " PosixPath('../data/quora/embeddings'),\n",
       " PosixPath('../data/quora/test.csv')]"
      ]
     },
     "execution_count": 4,
     "metadata": {},
     "output_type": "execute_result"
    }
   ],
   "source": [
    "data_path.ls()"
   ]
  },
  {
   "cell_type": "code",
   "execution_count": 5,
   "metadata": {
    "scrolled": true
   },
   "outputs": [],
   "source": [
    "train_df = pd.read_csv(data_path/\"train.csv\")\n",
    "test_df = pd.read_csv(data_path/\"test.csv\")"
   ]
  },
  {
   "cell_type": "code",
   "execution_count": 6,
   "metadata": {},
   "outputs": [
    {
     "data": {
      "text/html": [
       "<div>\n",
       "<style scoped>\n",
       "    .dataframe tbody tr th:only-of-type {\n",
       "        vertical-align: middle;\n",
       "    }\n",
       "\n",
       "    .dataframe tbody tr th {\n",
       "        vertical-align: top;\n",
       "    }\n",
       "\n",
       "    .dataframe thead th {\n",
       "        text-align: right;\n",
       "    }\n",
       "</style>\n",
       "<table border=\"1\" class=\"dataframe\">\n",
       "  <thead>\n",
       "    <tr style=\"text-align: right;\">\n",
       "      <th></th>\n",
       "      <th>qid</th>\n",
       "      <th>question_text</th>\n",
       "      <th>target</th>\n",
       "    </tr>\n",
       "  </thead>\n",
       "  <tbody>\n",
       "    <tr>\n",
       "      <th>0</th>\n",
       "      <td>00002165364db923c7e6</td>\n",
       "      <td>How did Quebec nationalists see their province...</td>\n",
       "      <td>0</td>\n",
       "    </tr>\n",
       "    <tr>\n",
       "      <th>1</th>\n",
       "      <td>000032939017120e6e44</td>\n",
       "      <td>Do you have an adopted dog, how would you enco...</td>\n",
       "      <td>0</td>\n",
       "    </tr>\n",
       "  </tbody>\n",
       "</table>\n",
       "</div>"
      ],
      "text/plain": [
       "                    qid                                      question_text  \\\n",
       "0  00002165364db923c7e6  How did Quebec nationalists see their province...   \n",
       "1  000032939017120e6e44  Do you have an adopted dog, how would you enco...   \n",
       "\n",
       "   target  \n",
       "0       0  \n",
       "1       0  "
      ]
     },
     "execution_count": 6,
     "metadata": {},
     "output_type": "execute_result"
    }
   ],
   "source": [
    "train_df.head(2)"
   ]
  },
  {
   "cell_type": "code",
   "execution_count": 7,
   "metadata": {},
   "outputs": [
    {
     "data": {
      "text/html": [
       "<div>\n",
       "<style scoped>\n",
       "    .dataframe tbody tr th:only-of-type {\n",
       "        vertical-align: middle;\n",
       "    }\n",
       "\n",
       "    .dataframe tbody tr th {\n",
       "        vertical-align: top;\n",
       "    }\n",
       "\n",
       "    .dataframe thead th {\n",
       "        text-align: right;\n",
       "    }\n",
       "</style>\n",
       "<table border=\"1\" class=\"dataframe\">\n",
       "  <thead>\n",
       "    <tr style=\"text-align: right;\">\n",
       "      <th></th>\n",
       "      <th>qid</th>\n",
       "      <th>question_text</th>\n",
       "    </tr>\n",
       "  </thead>\n",
       "  <tbody>\n",
       "    <tr>\n",
       "      <th>0</th>\n",
       "      <td>00014894849d00ba98a9</td>\n",
       "      <td>My voice range is A2-C5. My chest voice goes u...</td>\n",
       "    </tr>\n",
       "    <tr>\n",
       "      <th>1</th>\n",
       "      <td>000156468431f09b3cae</td>\n",
       "      <td>How much does a tutor earn in Bangalore?</td>\n",
       "    </tr>\n",
       "  </tbody>\n",
       "</table>\n",
       "</div>"
      ],
      "text/plain": [
       "                    qid                                      question_text\n",
       "0  00014894849d00ba98a9  My voice range is A2-C5. My chest voice goes u...\n",
       "1  000156468431f09b3cae           How much does a tutor earn in Bangalore?"
      ]
     },
     "execution_count": 7,
     "metadata": {},
     "output_type": "execute_result"
    }
   ],
   "source": [
    "test_df.head(2)"
   ]
  },
  {
   "cell_type": "code",
   "execution_count": 8,
   "metadata": {},
   "outputs": [],
   "source": [
    "test_df['target'] = 0"
   ]
  },
  {
   "cell_type": "code",
   "execution_count": 9,
   "metadata": {},
   "outputs": [],
   "source": [
    "# concat all data for language modeling\n",
    "text_df = pd.concat([train_df, test_df])"
   ]
  },
  {
   "cell_type": "code",
   "execution_count": 10,
   "metadata": {},
   "outputs": [
    {
     "data": {
      "text/plain": [
       "((1306122, 3), (56370, 3), (1362492, 3))"
      ]
     },
     "execution_count": 10,
     "metadata": {},
     "output_type": "execute_result"
    }
   ],
   "source": [
    "train_df.shape, test_df.shape, text_df.shape"
   ]
  },
  {
   "cell_type": "markdown",
   "metadata": {},
   "source": [
    "### Fine tuning language model"
   ]
  },
  {
   "cell_type": "code",
   "execution_count": 11,
   "metadata": {},
   "outputs": [],
   "source": [
    "data_lm = (TextList.from_df(df=text_df, path='.', cols=\"question_text\")\n",
    "               .random_split_by_pct(0.05)\n",
    "               .label_for_lm()\n",
    "               .databunch())"
   ]
  },
  {
   "cell_type": "code",
   "execution_count": 12,
   "metadata": {},
   "outputs": [],
   "source": [
    "learn = language_model_learner(data_lm, pretrained_model=URLs.WT103_1, drop_mult=0.5)"
   ]
  },
  {
   "cell_type": "code",
   "execution_count": 19,
   "metadata": {},
   "outputs": [
    {
     "name": "stdout",
     "output_type": "stream",
     "text": [
      "LR Finder is complete, type {learner_name}.recorder.plot() to see the graph.\n"
     ]
    }
   ],
   "source": [
    "learn.lr_find()\n",
    "learn.recorder.plot()"
   ]
  },
  {
   "cell_type": "code",
   "execution_count": 14,
   "metadata": {},
   "outputs": [
    {
     "data": {
      "text/plain": [
       "[5.951782, tensor(0.1553)]"
      ]
     },
     "execution_count": 14,
     "metadata": {},
     "output_type": "execute_result"
    }
   ],
   "source": [
    "learn.validate(learn.data.valid_dl)"
   ]
  },
  {
   "cell_type": "code",
   "execution_count": 22,
   "metadata": {},
   "outputs": [
    {
     "data": {
      "text/html": [
       "Total time: 18:24 <p><table style='width:300px; margin-bottom:10px'>\n",
       "  <tr>\n",
       "    <th>epoch</th>\n",
       "    <th>train_loss</th>\n",
       "    <th>valid_loss</th>\n",
       "    <th>accuracy</th>\n",
       "  </tr>\n",
       "  <tr>\n",
       "    <th>1</th>\n",
       "    <th>4.199656</th>\n",
       "    <th>3.953942</th>\n",
       "    <th>0.351583</th>\n",
       "  </tr>\n",
       "</table>\n"
      ],
      "text/plain": [
       "<IPython.core.display.HTML object>"
      ]
     },
     "metadata": {},
     "output_type": "display_data"
    }
   ],
   "source": [
    "learn.fit_one_cycle(1, 5e-2)"
   ]
  },
  {
   "cell_type": "code",
   "execution_count": 35,
   "metadata": {},
   "outputs": [
    {
     "data": {
      "text/plain": [
       "'Am I actually going with biotechnology after anyone joined to multiple subjects ?'"
      ]
     },
     "execution_count": 35,
     "metadata": {},
     "output_type": "execute_result"
    }
   ],
   "source": [
    "learn.predict(\"Am I actually\", n_words=10)"
   ]
  },
  {
   "cell_type": "code",
   "execution_count": 37,
   "metadata": {},
   "outputs": [
    {
     "data": {
      "text/html": [
       "Total time: 20:25 <p><table style='width:300px; margin-bottom:10px'>\n",
       "  <tr>\n",
       "    <th>epoch</th>\n",
       "    <th>train_loss</th>\n",
       "    <th>valid_loss</th>\n",
       "    <th>accuracy</th>\n",
       "  </tr>\n",
       "  <tr>\n",
       "    <th>1</th>\n",
       "    <th>3.648641</th>\n",
       "    <th>3.535505</th>\n",
       "    <th>0.391344</th>\n",
       "  </tr>\n",
       "</table>\n"
      ],
      "text/plain": [
       "<IPython.core.display.HTML object>"
      ]
     },
     "metadata": {},
     "output_type": "display_data"
    }
   ],
   "source": [
    "learn.unfreeze()\n",
    "learn.fit_one_cycle(1, 1e-3)"
   ]
  },
  {
   "cell_type": "code",
   "execution_count": 39,
   "metadata": {},
   "outputs": [
    {
     "data": {
      "text/plain": [
       "'How would a data scientist be employed in as a fresher electrical engineer ? xxbos'"
      ]
     },
     "execution_count": 39,
     "metadata": {},
     "output_type": "execute_result"
    }
   ],
   "source": [
    "learn.predict(\"How would a data scientist\", n_words=10)"
   ]
  },
  {
   "cell_type": "code",
   "execution_count": 41,
   "metadata": {},
   "outputs": [],
   "source": [
    "learn.save_encoder(\"ft_enc\")"
   ]
  },
  {
   "cell_type": "code",
   "execution_count": 79,
   "metadata": {},
   "outputs": [],
   "source": [
    "data_lm.save()"
   ]
  },
  {
   "cell_type": "code",
   "execution_count": null,
   "metadata": {},
   "outputs": [],
   "source": [
    "data_lm.load()"
   ]
  },
  {
   "cell_type": "code",
   "execution_count": 34,
   "metadata": {},
   "outputs": [],
   "source": [
    "model_dict = get_model(learn.model).state_dict()"
   ]
  },
  {
   "cell_type": "code",
   "execution_count": 44,
   "metadata": {
    "scrolled": false
   },
   "outputs": [],
   "source": [
    "encoder_state = get_model(learn.model)[0].state_dict()"
   ]
  },
  {
   "cell_type": "code",
   "execution_count": 50,
   "metadata": {
    "scrolled": false
   },
   "outputs": [],
   "source": [
    "k,v = zip(*list(encoder_state.items()))"
   ]
  },
  {
   "cell_type": "code",
   "execution_count": 78,
   "metadata": {},
   "outputs": [
    {
     "data": {
      "text/plain": [
       "('encoder.weight',\n",
       " 'encoder_dp.emb.weight',\n",
       " 'rnns.0.weight_hh_l0_raw',\n",
       " 'rnns.0.module.weight_ih_l0',\n",
       " 'rnns.0.module.weight_hh_l0',\n",
       " 'rnns.0.module.bias_ih_l0',\n",
       " 'rnns.0.module.bias_hh_l0',\n",
       " 'rnns.1.weight_hh_l0_raw',\n",
       " 'rnns.1.module.weight_ih_l0',\n",
       " 'rnns.1.module.weight_hh_l0',\n",
       " 'rnns.1.module.bias_ih_l0',\n",
       " 'rnns.1.module.bias_hh_l0',\n",
       " 'rnns.2.weight_hh_l0_raw',\n",
       " 'rnns.2.module.weight_ih_l0',\n",
       " 'rnns.2.module.weight_hh_l0',\n",
       " 'rnns.2.module.bias_ih_l0',\n",
       " 'rnns.2.module.bias_hh_l0')"
      ]
     },
     "execution_count": 78,
     "metadata": {},
     "output_type": "execute_result"
    }
   ],
   "source": [
    "k"
   ]
  },
  {
   "cell_type": "code",
   "execution_count": 102,
   "metadata": {},
   "outputs": [
    {
     "data": {
      "text/plain": [
       "(tensor([[ 0.1519,  0.0584, -0.2037,  ..., -0.0608, -0.0194, -0.2690],\n",
       "         [ 0.2069, -0.0384,  0.1234,  ..., -0.0258, -0.0756, -0.1575],\n",
       "         [-0.9274,  0.0241,  0.1056,  ..., -0.1405, -0.1731,  0.0738],\n",
       "         ...,\n",
       "         [ 0.0925,  0.0680, -0.0463,  ..., -0.0311,  0.0464, -0.1263],\n",
       "         [ 0.2356, -0.0249,  0.1637,  ..., -0.0054, -0.0643, -0.1600],\n",
       "         [ 0.2161, -0.1127,  0.2594,  ..., -0.0484, -0.0795, -0.1250]],\n",
       "        device='cuda:0'),\n",
       " tensor([[ 0.1519,  0.0584, -0.2037,  ..., -0.0608, -0.0194, -0.2690],\n",
       "         [ 0.2069, -0.0384,  0.1234,  ..., -0.0258, -0.0756, -0.1575],\n",
       "         [-0.9274,  0.0241,  0.1056,  ..., -0.1405, -0.1731,  0.0738],\n",
       "         ...,\n",
       "         [ 0.0925,  0.0680, -0.0463,  ..., -0.0311,  0.0464, -0.1263],\n",
       "         [ 0.2356, -0.0249,  0.1637,  ..., -0.0054, -0.0643, -0.1600],\n",
       "         [ 0.2161, -0.1127,  0.2594,  ..., -0.0484, -0.0795, -0.1250]],\n",
       "        device='cuda:0'),\n",
       " tensor([[-0.1827, -0.2548, -0.1800,  ...,  0.0278,  0.2986,  0.0069],\n",
       "         [-0.6036, -0.0675,  0.0336,  ..., -0.4524, -0.2807,  0.1868],\n",
       "         [ 0.1576, -0.0964,  0.1234,  ..., -0.3793, -0.1212,  0.0972],\n",
       "         ...,\n",
       "         [ 0.1949, -0.2749,  0.1171,  ..., -0.1272, -0.2532,  0.0464],\n",
       "         [ 0.0935, -0.2633,  0.3838,  ...,  0.4232, -0.3346,  0.1848],\n",
       "         [-0.0377, -0.2231, -0.0679,  ..., -0.1206, -0.1029,  0.3398]],\n",
       "        device='cuda:0'),\n",
       " tensor([[-0.2820,  0.3479, -0.2394,  ..., -0.1558,  0.6529,  0.4107],\n",
       "         [ 0.8354,  0.2858,  0.4017,  ..., -0.1772,  0.0807,  0.5467],\n",
       "         [ 0.0134,  0.2823,  0.0115,  ..., -0.2947,  0.0632,  0.6663],\n",
       "         ...,\n",
       "         [-0.0474,  0.3673, -0.1283,  ...,  0.5901, -0.3038, -0.3658],\n",
       "         [-0.0395,  0.4076, -0.0378,  ...,  0.1687, -0.1121, -0.3870],\n",
       "         [-0.0673, -0.0291,  0.0940,  ...,  0.0859,  0.1676,  0.3703]],\n",
       "        device='cuda:0'),\n",
       " tensor([[-0.1827, -0.2548, -0.1800,  ...,  0.0278,  0.2986,  0.0069],\n",
       "         [-0.6036, -0.0675,  0.0336,  ..., -0.4524, -0.2807,  0.1868],\n",
       "         [ 0.1576, -0.0964,  0.1234,  ..., -0.3793, -0.1212,  0.0972],\n",
       "         ...,\n",
       "         [ 0.1949, -0.2749,  0.1171,  ..., -0.1272, -0.2532,  0.0464],\n",
       "         [ 0.0935, -0.2633,  0.3838,  ...,  0.4232, -0.3346,  0.1848],\n",
       "         [-0.0377, -0.2231, -0.0679,  ..., -0.1206, -0.1029,  0.3398]],\n",
       "        device='cuda:0'),\n",
       " tensor([ 0.0863, -0.2349, -0.1059,  ..., -0.1554, -0.1716, -0.2312],\n",
       "        device='cuda:0'),\n",
       " tensor([ 0.0863, -0.2349, -0.1058,  ..., -0.1554, -0.1716, -0.2312],\n",
       "        device='cuda:0'),\n",
       " tensor([[ 0.9929,  0.2040, -0.1679,  ...,  0.2750,  0.3732, -0.5932],\n",
       "         [-0.2473,  0.3983, -0.4369,  ...,  0.0651, -0.7176, -0.4303],\n",
       "         [-0.2953,  0.0881,  0.0628,  ...,  0.1258,  0.1869, -0.3955],\n",
       "         ...,\n",
       "         [ 0.2622, -0.3086,  0.1680,  ..., -0.0172,  0.0587, -0.0131],\n",
       "         [-0.0651, -0.0926,  0.4129,  ..., -0.3058,  0.2163, -0.0470],\n",
       "         [ 0.2002,  0.4437, -0.1720,  ..., -0.0695,  0.0223,  0.0040]],\n",
       "        device='cuda:0'),\n",
       " tensor([[-0.1112,  0.1121, -0.4131,  ...,  0.2183, -0.0224,  0.0578],\n",
       "         [ 0.2515,  0.0905,  0.2127,  ...,  0.0083,  0.0495, -0.2794],\n",
       "         [-0.2800, -0.0739,  0.4212,  ..., -0.1465, -0.5414,  0.0811],\n",
       "         ...,\n",
       "         [ 0.3498, -0.1982,  0.1666,  ...,  0.1318,  0.3789,  0.1789],\n",
       "         [ 0.3555, -0.0302, -0.0737,  ...,  0.0275,  0.3745, -0.0224],\n",
       "         [ 0.2957, -0.1633, -0.1030,  ..., -0.0569, -0.5646,  0.1858]],\n",
       "        device='cuda:0'),\n",
       " tensor([[ 0.9929,  0.2040, -0.1679,  ...,  0.2750,  0.3732, -0.5932],\n",
       "         [-0.2473,  0.3983, -0.4369,  ...,  0.0651, -0.7176, -0.4303],\n",
       "         [-0.2953,  0.0881,  0.0628,  ...,  0.1258,  0.1869, -0.3955],\n",
       "         ...,\n",
       "         [ 0.2622, -0.3086,  0.1680,  ..., -0.0172,  0.0587, -0.0131],\n",
       "         [-0.0651, -0.0926,  0.4129,  ..., -0.3058,  0.2163, -0.0470],\n",
       "         [ 0.2002,  0.4437, -0.1720,  ..., -0.0695,  0.0223,  0.0040]],\n",
       "        device='cuda:0'),\n",
       " tensor([-0.3673, -0.3717, -0.2785,  ..., -0.2633, -0.4760, -0.4449],\n",
       "        device='cuda:0'),\n",
       " tensor([-0.3672, -0.3717, -0.2785,  ..., -0.2633, -0.4760, -0.4449],\n",
       "        device='cuda:0'),\n",
       " tensor([[-0.1288, -0.0315,  0.0471,  ...,  0.0425, -0.0029,  0.0472],\n",
       "         [-0.0456,  0.0141,  0.0182,  ...,  0.0484,  0.0099,  0.0419],\n",
       "         [ 0.0151,  0.0048, -0.0292,  ..., -0.0263,  0.0789, -0.0067],\n",
       "         ...,\n",
       "         [ 0.0320, -0.0758,  0.0044,  ..., -0.0267, -0.0410,  0.0676],\n",
       "         [-0.0331,  0.2246, -0.1328,  ..., -0.0153,  0.0383, -0.0185],\n",
       "         [-0.0598,  0.1379,  0.0378,  ..., -0.1034, -0.0116, -0.1787]],\n",
       "        device='cuda:0'),\n",
       " tensor([[ 0.2579,  0.2623, -0.2406,  ...,  0.3074, -0.4312, -0.3428],\n",
       "         [-0.2946,  0.3737, -0.2905,  ..., -0.0503, -0.5928, -0.1739],\n",
       "         [ 0.1140,  0.0128, -0.0487,  ...,  0.2817,  0.0262,  0.2056],\n",
       "         ...,\n",
       "         [-0.3690,  1.3363, -0.0465,  ..., -0.2738, -0.0750, -0.6451],\n",
       "         [ 0.7840, -0.0270, -0.0077,  ..., -0.9571, -0.1509, -0.0676],\n",
       "         [-0.5545,  0.5704, -0.5450,  ..., -0.7884,  0.6073,  0.0231]],\n",
       "        device='cuda:0'),\n",
       " tensor([[-0.1288, -0.0315,  0.0471,  ...,  0.0425, -0.0029,  0.0472],\n",
       "         [-0.0456,  0.0141,  0.0182,  ...,  0.0484,  0.0099,  0.0419],\n",
       "         [ 0.0151,  0.0048, -0.0292,  ..., -0.0263,  0.0789, -0.0067],\n",
       "         ...,\n",
       "         [ 0.0320, -0.0758,  0.0044,  ..., -0.0267, -0.0410,  0.0676],\n",
       "         [-0.0331,  0.2246, -0.1328,  ..., -0.0153,  0.0383, -0.0185],\n",
       "         [-0.0598,  0.1379,  0.0378,  ..., -0.1034, -0.0116, -0.1787]],\n",
       "        device='cuda:0'),\n",
       " tensor([ 0.2115, -0.0172, -0.0074,  ...,  0.2077,  0.7072,  0.7037],\n",
       "        device='cuda:0'),\n",
       " tensor([ 0.2115, -0.0172, -0.0074,  ...,  0.2078,  0.7072,  0.7037],\n",
       "        device='cuda:0'))"
      ]
     },
     "execution_count": 102,
     "metadata": {},
     "output_type": "execute_result"
    }
   ],
   "source": [
    "v"
   ]
  },
  {
   "cell_type": "code",
   "execution_count": 80,
   "metadata": {},
   "outputs": [],
   "source": [
    "val = (to_np(v[0]).astype(np.float16))"
   ]
  },
  {
   "cell_type": "code",
   "execution_count": 83,
   "metadata": {},
   "outputs": [
    {
     "data": {
      "text/plain": [
       "(60003, 400)"
      ]
     },
     "execution_count": 83,
     "metadata": {},
     "output_type": "execute_result"
    }
   ],
   "source": [
    "val.shape"
   ]
  },
  {
   "cell_type": "code",
   "execution_count": 87,
   "metadata": {},
   "outputs": [],
   "source": [
    "binary = pickle.dumps(val)"
   ]
  },
  {
   "cell_type": "code",
   "execution_count": 94,
   "metadata": {},
   "outputs": [],
   "source": [
    "compressed = zlib.compress(binary, 9)"
   ]
  },
  {
   "cell_type": "code",
   "execution_count": 96,
   "metadata": {},
   "outputs": [
    {
     "data": {
      "text/plain": [
       "48002562"
      ]
     },
     "execution_count": 96,
     "metadata": {},
     "output_type": "execute_result"
    }
   ],
   "source": [
    "len(binary)"
   ]
  },
  {
   "cell_type": "code",
   "execution_count": 97,
   "metadata": {},
   "outputs": [],
   "source": [
    "encoded = base64.b64encode((compressed))"
   ]
  },
  {
   "cell_type": "code",
   "execution_count": 98,
   "metadata": {},
   "outputs": [
    {
     "data": {
      "text/plain": [
       "36609736"
      ]
     },
     "execution_count": 98,
     "metadata": {},
     "output_type": "execute_result"
    }
   ],
   "source": [
    "len(encoded)"
   ]
  },
  {
   "cell_type": "code",
   "execution_count": null,
   "metadata": {},
   "outputs": [],
   "source": []
  },
  {
   "cell_type": "code",
   "execution_count": null,
   "metadata": {},
   "outputs": [],
   "source": []
  },
  {
   "cell_type": "code",
   "execution_count": null,
   "metadata": {},
   "outputs": [],
   "source": []
  },
  {
   "cell_type": "markdown",
   "metadata": {},
   "source": [
    "### Classification Model"
   ]
  },
  {
   "cell_type": "code",
   "execution_count": 11,
   "metadata": {},
   "outputs": [],
   "source": [
    "class fbeta_binary(Callback):\n",
    "    \"Computes the f_beta between preds and targets for binary text classification\"\n",
    "\n",
    "    def __init__(self, beta2 = 1, eps=1e-9, sigmoid = True):      \n",
    "        self.beta2=beta2**2\n",
    "        self.eps = eps\n",
    "        self.sigmoid = sigmoid\n",
    "    \n",
    "    def on_epoch_begin(self, **kwargs):\n",
    "        self.TP = 0\n",
    "        self.total_y_pred = 0   \n",
    "        self.total_y_true = 0\n",
    "    \n",
    "    def on_batch_end(self, last_output, last_target, **kwargs):\n",
    "        y_pred = last_output\n",
    "        y_pred = y_pred.softmax(dim = 1)        \n",
    "        y_pred = y_pred.argmax(dim=1)\n",
    "        y_true = last_target.float()\n",
    "        \n",
    "        self.TP += ((y_pred==1) * (y_true==1)).float().sum()\n",
    "        self.total_y_pred += (y_pred==1).float().sum()\n",
    "        self.total_y_true += (y_true==1).float().sum()\n",
    "    \n",
    "    def on_epoch_end(self, **kwargs):\n",
    "        prec = self.TP/(self.total_y_pred+self.eps)\n",
    "        rec = self.TP/(self.total_y_true+self.eps)\n",
    "        res = (prec*rec)/(prec*self.beta2+rec+self.eps)*(1+self.beta2)        \n",
    "        self.metric = res     "
   ]
  },
  {
   "cell_type": "code",
   "execution_count": 12,
   "metadata": {},
   "outputs": [],
   "source": [
    "class FocalLoss(nn.Module):\n",
    "    def __init__(self, gamma=0, eps=1e-7, c=2):\n",
    "        super(FocalLoss, self).__init__()\n",
    "        self.gamma = gamma\n",
    "        self.eps = eps\n",
    "        self.c = c\n",
    "        \n",
    "    def forward(self, input, target):       \n",
    "        mask = torch.eye(self.c)[target]\n",
    "        probas = torch.softmax(input, dim=1)\n",
    "        probas = probas.clamp(self.eps, 1. - self.eps)\n",
    "        pt = torch.masked_select(probas, mask.byte().cuda())\n",
    "        return torch.mean(-torch.pow((1-pt), self.gamma)*torch.log(pt))"
   ]
  },
  {
   "cell_type": "code",
   "execution_count": 404,
   "metadata": {},
   "outputs": [
    {
     "data": {
      "text/html": [
       "<div>\n",
       "<style scoped>\n",
       "    .dataframe tbody tr th:only-of-type {\n",
       "        vertical-align: middle;\n",
       "    }\n",
       "\n",
       "    .dataframe tbody tr th {\n",
       "        vertical-align: top;\n",
       "    }\n",
       "\n",
       "    .dataframe thead th {\n",
       "        text-align: right;\n",
       "    }\n",
       "</style>\n",
       "<table border=\"1\" class=\"dataframe\">\n",
       "  <thead>\n",
       "    <tr style=\"text-align: right;\">\n",
       "      <th></th>\n",
       "      <th>qid</th>\n",
       "      <th>question_text</th>\n",
       "      <th>target</th>\n",
       "    </tr>\n",
       "  </thead>\n",
       "  <tbody>\n",
       "    <tr>\n",
       "      <th>0</th>\n",
       "      <td>00002165364db923c7e6</td>\n",
       "      <td>How did Quebec nationalists see their province...</td>\n",
       "      <td>0</td>\n",
       "    </tr>\n",
       "    <tr>\n",
       "      <th>1</th>\n",
       "      <td>000032939017120e6e44</td>\n",
       "      <td>Do you have an adopted dog, how would you enco...</td>\n",
       "      <td>0</td>\n",
       "    </tr>\n",
       "  </tbody>\n",
       "</table>\n",
       "</div>"
      ],
      "text/plain": [
       "                    qid                                      question_text  \\\n",
       "0  00002165364db923c7e6  How did Quebec nationalists see their province...   \n",
       "1  000032939017120e6e44  Do you have an adopted dog, how would you enco...   \n",
       "\n",
       "   target  \n",
       "0       0  \n",
       "1       0  "
      ]
     },
     "execution_count": 404,
     "metadata": {},
     "output_type": "execute_result"
    }
   ],
   "source": [
    "# create train, valid and test\n",
    "train_df.head(2)"
   ]
  },
  {
   "cell_type": "code",
   "execution_count": 405,
   "metadata": {},
   "outputs": [
    {
     "data": {
      "text/html": [
       "<div>\n",
       "<style scoped>\n",
       "    .dataframe tbody tr th:only-of-type {\n",
       "        vertical-align: middle;\n",
       "    }\n",
       "\n",
       "    .dataframe tbody tr th {\n",
       "        vertical-align: top;\n",
       "    }\n",
       "\n",
       "    .dataframe thead th {\n",
       "        text-align: right;\n",
       "    }\n",
       "</style>\n",
       "<table border=\"1\" class=\"dataframe\">\n",
       "  <thead>\n",
       "    <tr style=\"text-align: right;\">\n",
       "      <th></th>\n",
       "      <th>qid</th>\n",
       "      <th>question_text</th>\n",
       "      <th>target</th>\n",
       "    </tr>\n",
       "  </thead>\n",
       "  <tbody>\n",
       "    <tr>\n",
       "      <th>0</th>\n",
       "      <td>00014894849d00ba98a9</td>\n",
       "      <td>My voice range is A2-C5. My chest voice goes u...</td>\n",
       "      <td>0</td>\n",
       "    </tr>\n",
       "    <tr>\n",
       "      <th>1</th>\n",
       "      <td>000156468431f09b3cae</td>\n",
       "      <td>How much does a tutor earn in Bangalore?</td>\n",
       "      <td>0</td>\n",
       "    </tr>\n",
       "  </tbody>\n",
       "</table>\n",
       "</div>"
      ],
      "text/plain": [
       "                    qid                                      question_text  \\\n",
       "0  00014894849d00ba98a9  My voice range is A2-C5. My chest voice goes u...   \n",
       "1  000156468431f09b3cae           How much does a tutor earn in Bangalore?   \n",
       "\n",
       "   target  \n",
       "0       0  \n",
       "1       0  "
      ]
     },
     "execution_count": 405,
     "metadata": {},
     "output_type": "execute_result"
    }
   ],
   "source": [
    "test_df.head(2)"
   ]
  },
  {
   "cell_type": "code",
   "execution_count": 406,
   "metadata": {},
   "outputs": [
    {
     "name": "stdout",
     "output_type": "stream",
     "text": [
      "0    0.93805\n",
      "1    0.06195\n",
      "Name: target, dtype: float64\n",
      "0    0.939638\n",
      "1    0.060362\n",
      "Name: target, dtype: float64\n"
     ]
    }
   ],
   "source": [
    "# create train-val split\n",
    "np.random.seed(42)\n",
    "shuffled_idxs = np.random.permutation(range(len(train_df)))\n",
    "n_valid = int(len(train_df)*0.05)\n",
    "valid_idxs, train_idxs = shuffled_idxs[:n_valid], shuffled_idxs[n_valid:]\n",
    "trn_df = train_df.iloc[train_idxs].reset_index(drop=True)\n",
    "val_df = train_df.iloc[valid_idxs].reset_index(drop=True)\n",
    "\n",
    "print(trn_df.target.value_counts(True))\n",
    "print(val_df.target.value_counts(True))"
   ]
  },
  {
   "cell_type": "code",
   "execution_count": 407,
   "metadata": {},
   "outputs": [],
   "source": [
    "data_clas = TextClasDataBunch.from_df(\".\", train_df=trn_df, valid_df=val_df, test_df=test_df,\n",
    "                                      text_cols=\"question_text\", label_cols=\"target\",\n",
    "                                      vocab=data_lm.train_ds.vocab, bs=512)"
   ]
  },
  {
   "cell_type": "code",
   "execution_count": 444,
   "metadata": {},
   "outputs": [],
   "source": [
    "data_clas.save()"
   ]
  },
  {
   "cell_type": "markdown",
   "metadata": {},
   "source": [
    "### Training"
   ]
  },
  {
   "cell_type": "code",
   "execution_count": 26,
   "metadata": {},
   "outputs": [],
   "source": [
    "# load existing databunch\n",
    "data_clas = TextClasDataBunch.load(\".\", bs=512)\n",
    "learn = text_classifier_learner(data_clas, drop_mult=0.5)\n",
    "learn.load_encoder('ft_enc');"
   ]
  },
  {
   "cell_type": "code",
   "execution_count": 27,
   "metadata": {},
   "outputs": [],
   "source": [
    "fbeta = fbeta_binary()\n",
    "learn.metrics = [accuracy, fbeta]\n",
    "focal_loss = FocalLoss(gamma=2)\n",
    "learn.loss_func = focal_loss"
   ]
  },
  {
   "cell_type": "code",
   "execution_count": 434,
   "metadata": {},
   "outputs": [],
   "source": [
    "# stage-1 training\n",
    "learn.freeze_to(-2)\n",
    "learn.fit_one_cycle(10, 1e-2)"
   ]
  },
  {
   "cell_type": "code",
   "execution_count": 28,
   "metadata": {},
   "outputs": [],
   "source": [
    "# learn.save(\"clas-stage-1\")\n",
    "learn.load(\"clas-stage-1\");"
   ]
  },
  {
   "cell_type": "code",
   "execution_count": 29,
   "metadata": {},
   "outputs": [
    {
     "name": "stdout",
     "output_type": "stream",
     "text": [
      "LR Finder is complete, type {learner_name}.recorder.plot() to see the graph.\n"
     ]
    },
    {
     "data": {
      "image/png": "[encoded data removed]",
      "text/plain": [
       "<Figure size 432x288 with 1 Axes>"
      ]
     },
     "metadata": {
      "needs_background": "light"
     },
     "output_type": "display_data"
    }
   ],
   "source": [
    "learn.unfreeze()\n",
    "learn.lr_find()\n",
    "learn.recorder.plot()"
   ]
  },
  {
   "cell_type": "code",
   "execution_count": null,
   "metadata": {
    "scrolled": false
   },
   "outputs": [],
   "source": [
    "# stage-2 trainin\n",
    "learn.fit_one_cycle(10, slice(1e-4))"
   ]
  },
  {
   "cell_type": "code",
   "execution_count": 31,
   "metadata": {},
   "outputs": [],
   "source": [
    "learn.save(\"clas-stage-2\")\n",
    "learn.load(\"clas-stage-2\");"
   ]
  },
  {
   "cell_type": "markdown",
   "metadata": {},
   "source": [
    "### Tune Threshold \n",
    "\n",
    "Since `SortSampler` is used validation and test data is also doesn't have the original order"
   ]
  },
  {
   "cell_type": "code",
   "execution_count": 37,
   "metadata": {},
   "outputs": [],
   "source": [
    "from sklearn.metrics import f1_score"
   ]
  },
  {
   "cell_type": "code",
   "execution_count": 32,
   "metadata": {},
   "outputs": [],
   "source": [
    "lengths = [len(t) for t in learn.data.valid_ds.x.items]\n",
    "sampler = SortSampler(range(len(learn.data.valid_ds.x)), key=lengths.__getitem__)\n",
    "idxs = [i for i in sampler]"
   ]
  },
  {
   "cell_type": "code",
   "execution_count": 33,
   "metadata": {},
   "outputs": [],
   "source": [
    "pred_out = learn.get_preds(ds_type=DatasetType.Valid)"
   ]
  },
  {
   "cell_type": "code",
   "execution_count": 48,
   "metadata": {},
   "outputs": [],
   "source": [
    "preds = to_np(torch.softmax(pred_out[0], dim=1)[:, 1])"
   ]
  },
  {
   "cell_type": "code",
   "execution_count": 49,
   "metadata": {},
   "outputs": [],
   "source": [
    "sorted_preds = preds[np.argsort(idxs)]"
   ]
  },
  {
   "cell_type": "code",
   "execution_count": 52,
   "metadata": {},
   "outputs": [
    {
     "data": {
      "text/plain": [
       "(2.0120552e-32, 0.9939008)"
      ]
     },
     "execution_count": 52,
     "metadata": {},
     "output_type": "execute_result"
    }
   ],
   "source": [
    "sorted_preds.min(), sorted_preds.max()"
   ]
  },
  {
   "cell_type": "code",
   "execution_count": 53,
   "metadata": {},
   "outputs": [],
   "source": [
    "actual = learn.data.valid_ds.y.items"
   ]
  },
  {
   "cell_type": "code",
   "execution_count": 56,
   "metadata": {
    "scrolled": true
   },
   "outputs": [
    {
     "name": "stdout",
     "output_type": "stream",
     "text": [
      "0.1171621581406422 0.01\n",
      "0.12482755339898197 0.03\n",
      "0.14211363307792393 0.05\n",
      "0.17161961367013373 0.06999999999999999\n",
      "0.2125635380140803 0.09\n",
      "0.26029962546816476 0.11\n",
      "0.3072396930783604 0.13\n",
      "0.35291954022988503 0.15000000000000002\n",
      "0.39407898141918124 0.17\n",
      "0.4323209169054441 0.19\n",
      "0.46532187772382017 0.21000000000000002\n",
      "0.495330242558624 0.23\n",
      "0.5232959447799826 0.25\n",
      "0.5489172170173553 0.27\n",
      "0.5696377696377696 0.29000000000000004\n",
      "0.5922221264120031 0.31\n",
      "0.610535876475931 0.33\n",
      "0.6260620525059666 0.35000000000000003\n",
      "0.6380158650466915 0.37\n",
      "0.6488188976377953 0.39\n",
      "0.6561264822134387 0.41000000000000003\n",
      "0.6576689923367265 0.43\n",
      "0.6604046242774567 0.45\n",
      "0.6569672645177473 0.47000000000000003\n",
      "0.6442635862431084 0.49\n",
      "0.6317089910775566 0.51\n",
      "0.6150742181870585 0.53\n",
      "0.5940235436160579 0.55\n",
      "0.5583095011121703 0.5700000000000001\n",
      "0.5138140161725068 0.59\n",
      "0.45516744688512784 0.61\n",
      "0.3937942922811722 0.63\n",
      "0.3208009807928075 0.65\n",
      "0.2566523605150215 0.67\n",
      "0.19605204127411394 0.6900000000000001\n",
      "0.1554069633387134 0.7100000000000001\n",
      "0.11842415664071713 0.73\n",
      "0.09300095877277086 0.75\n",
      "0.07146329606222654 0.77\n",
      "0.05554190218726959 0.79\n",
      "0.04986423105406073 0.81\n",
      "0.042637580565195836 0.8300000000000001\n",
      "0.03533217218213486 0.85\n",
      "0.030922693266832918 0.87\n",
      "0.02403605408112168 0.89\n",
      "0.01759235988941945 0.91\n",
      "0.012600806451612902 0.93\n",
      "0.0075815011372251705 0.9500000000000001\n",
      "0.005060728744939271 0.97\n",
      "0.0005072279989855439 0.99\n",
      "\n",
      "0.6604046242774567 0.45\n"
     ]
    }
   ],
   "source": [
    "best_score, best_thresh = 0,0\n",
    "for t in np.linspace(0.01, 0.99, 50):\n",
    "    score = f1_score(actual, sorted_preds > t)\n",
    "    if score > best_score:\n",
    "        best_score = score\n",
    "        best_thresh = t\n",
    "    print(score, t)\n",
    "print()\n",
    "print(best_score, best_thresh)"
   ]
  },
  {
   "cell_type": "markdown",
   "metadata": {},
   "source": [
    "### Prepare Submission\n",
    "\n",
    "Since `SortSampler` is used validation and test data is also doesn't have the original order"
   ]
  },
  {
   "cell_type": "code",
   "execution_count": 57,
   "metadata": {},
   "outputs": [],
   "source": [
    "lengths = [len(t) for t in learn.data.test_ds.x.items]\n",
    "sampler = SortSampler(range(len(learn.data.test_ds.x)), key=lengths.__getitem__)\n",
    "idxs = [i for i in sampler]"
   ]
  },
  {
   "cell_type": "code",
   "execution_count": 63,
   "metadata": {},
   "outputs": [],
   "source": [
    "pred_out = learn.get_preds(ds_type=DatasetType.Test)\n",
    "preds = to_np(torch.softmax(pred_out[0], dim=1)[:, 1] > best_thresh)\n",
    "sorted_preds = preds[np.argsort(idxs)]\n",
    "pred_str = ''.join([str(i) for i in sorted_preds.tolist()])"
   ]
  },
  {
   "cell_type": "code",
   "execution_count": 65,
   "metadata": {},
   "outputs": [
    {
     "data": {
      "text/plain": [
       "'000000000000000000000000000000000000000100000000000000100000000000000000000001000000000000000000001000100100000000000100000100000000101001000000000011000000000000001010000110000000000000100000000000100000000000100000010100100000000000000000000001000111000000000000000000000000000000001000001000000100010000010000000000000000000000000000000100100100000000000000000000000000000000001000010000001000000000100000000001000100000000000001010000000000000000010000000000000100010000000000000000000000000000000000000000010100000000000000100001000000000000001000000010010000000000000010000000000000000000000000000000000000010000000000000000000000000000100000000000000000000000000000100000000000000000001000000000001000000000000000000000000001000010000000000010000100000000000000000000000100000000000000000000000000000010000000000000000000000000000000000000001000100000001000000000000000000000000000000000000000000000000000000100000000000000000010000000000000001000000000000000000000000000000000011000000000000000011000000000000000000000000000000000000000000000000000000001000000000101000000000100000000000100100000000000000011001000000000000000000100000000000000000001000000000000000000001000000000000000100001000000000000101000000000000000000001000000000000000000000000000010000001010001000000010100000000000000000000000000000000000000000000001010000010000000000100000100000000000000000000000000000000000000000000000001000000000000000000000000000000000000000000000000000000000000001000000000000000000000000000001001000000000000000000000000000000000000000001000010000000000000000010000000000000100000000000000011000000000000000000000000000000000000000000000000001000000000100000000000000100000000000001000000000001000000000000000000000000000001000000000000000000000000000000000000000000100000000100000000000000000001000100100000000000000100000000000001000000000000000000000000000011000000000000000100000000010000000000000000010000000000000000000000000000000000000000000000000000000000000110000010000011000000000000000000010001000100010000000000000000100000000000000000000000000000001000100011000000000000000010000000000010000000100000001000000010000000000010010010100000100000000000000000000000000000000000000010001010000000010000000000000000000100000000000000000000000000000000000000000000000100000000010000000000000000000000001100000000000000000000000000000000001000000000000000000000000010100000000010000000000000000001000000000010100100001000000001000000000010000000010000100000000000000000000000000000000000000000000000000000100001000000000001000000000000000000000000000000000000000000000000000011000000000000100000000000000000000000000000000000000000000000000000001000000000000000100000000000000000000000100000000000000000000000000000000000000000000000000001000000000100011000000000000000000000001000000000000001010100000000001001100000000100000010000000000000110000000001010000000000000000000000000010000000000010000000000000000100000000010000100000000000000000000000000100000000000000000000001000000010000010010001100100000100000000000000000000001000000000000000000010000000001000000000000000000000000000000000000000000000001000010000000000000000000000000000010000000000000000000000000000000000000000000010000000000000000010001000010000001000000000000000000000000010000000010000010000000000000000000010000000000000000000000000000000000100000000000000000000110000000000000000000000000100000000000010000000000000000000101000000000000001100000010000000000000000000000000000000000000000000000000000000000000000000000000000010000010000000010010001000000010000010000000100000000000000000000000000000000000000000000010000000000000000000000000010001000000010000000000000000000000000000000000000000010000000000000000000000000000000000000000000000000000000000000001000000000010010000000000100000000000000000000010000000000000010000000000000000000000000000000001100000000000000010000000000000000000000100000000000000000000000000010000000000010000000000000110000000000000000000000000000000000000000000000000000000000000100000000010100000000011100000000000000000000000000001000000000100100000000010000000010000001000000000000000000000000000000000000100000000000000001000000000000000000000000000000000000000000000000000000100000000010000100000000000000000100100000000000000000000001000000011000000000100000000000000000100101001000000000000000010000000000000000000000000000000000000000000100001100000000000100000000000000000000000000000000010000001001000010000000000000000001000000000000000000000010000000000000000000000000000001000000110001000100010000000000000000000000001000000000000000100000000001000100000100000101010000000000000000000000000000000000000000000000000000000000000000000000010001000000000000000001000000000000000000000000000000000000000000010000000000000000000000000000000000000100000000010010000000000000000010000100000000000000000001001000000000000000000010000000000000000100000000000000000000000110000000100000000000000000000000000000000000000010000000000000000000000000000000001010000100000000000000000000000000100000000000000000000000000000000000000000000000000000000000000000001000000010001000000000010000000010010000000100000000001000000000000001000000000000000000000000000000000000000000000000000001000000000000000010000000000000000000000000000000000001000000000000000000000000001000001000000000000001000100000000100000000100000010011000000000001000000000000000000000100000000000001000000000000000000000000110000000000000000000000000000000010000100000000100000000000000000000000000010010000010000000000000000000000000001000000000000001000000000100010000000000000000000000000000000000000000000000000000010000000000000000000100100100000000000000000000000000000000001000101000100000000001010000100100000000000000000000000000000001000000001100000001000000001000000010000000000000000000000000010000000000000000000000000000100000000000000000000000000000000000000000000010000000000000000000000010000000010100000000000000000000000010000000000000000000000001010000000000000000000000000010000000000000100000000000000000000000000000000010000000010000000000001000000000000110000000010000000000010000010000000000000001000000000000000001000000000000100000100000000000000001000000100000000000000000100010010000000000010010000000010000000010100000000000000000000010000000010000100000100000000000000000000000000000110000000000000000000100000000000001001000010000000001000000000000000000000000000000000000010001000000000000000010000000000000000000000000000000000000000000000000010000000100000000000000000000000000000000000000000000010000000101000000000000000000010000000001000000000000001001000000000000000000000000010001000000010000001000000000000000010000000000000000000000000000000000000000100000010000000000000000000001000000000101000000011000000000100000010010000000000000000000000000001000010000000001000000000000000000000000000000000000000000000101000000000000000000101000000000000000000000000000000000000000010000000010000000000000000000000000000000000000000001010000000000000000000000000000000000001000001000000000000000001000000010000001000000000000000010000100000000000000000000000000000001001100000000000000000010000000000000010100000000000000000000100000000000000000000000000000000000000000000000000000000000000000001000000000000010000010000000010000000000000000000000000001010000000000000000000001000000100000000001000000000000000000000000010000000001000000000000000001000000100000000010000000000000000000000000000100000000000000000000000000100000000000000000000000010000000000000001000000000000000000000000000000010000000000000000000001000000000100000000000000000000000000000000000000001000000001000100000000000000000000000000000100100000100000000000100000010000000000000000100000000000000000000000000000000010000000001000001000000000000000010000000000000000000000000000000011000000000000000000000001000000100000000000000000000000011010000000000000000000000000000000110000000000001000000000100000010000010001001000000000000000000000000000000000000000000000000000000000000000000000000000000000000000000000000000000000000000000000000000000000000001000000000000000000000001000000000000000000000000000000000000000000100000000010000001100000000000000000100000000000000000000000000000000001000000000000000001000010000000000000000000000000010000000000000000100000000000000000000000000000000001000000000000010000000000000010001010000000000000000000001000000000000000000000001000000010001000000000000000000000000000000110010001000000010000000000000000000000000000000000100000000000000000000101000000000000000000000000000000000000010000000000000000000000000000000000100000010000000000000000001000100000000000000000000000000000100000000000000000000010001100000000000000000000001000000010000000000001000000000000000000000000000000000010000000000000000000000010000100000000000000010100000000000000000000000000000000000001010000000000000000000000000000000000100000000100100000000000000100000000000000000000000000000010000000000000000010000000001000000000000000000000000000000000000000000101000000000000000010000000001000010000000000000000000000000000010000000000000000000000000000000000000000001001000000000000000000000000100000001000000010000000000010000000000000000000000000000000100000001000000000000000001010000000000001000000000100100000000000000000000000010000000000000000000010000000000000000000000000010000000000000000001000000000000100010000000000000000000010000000000000000100000000000000000000000000000100010000000000000000000000000000000000010101001000000000000000000000000000100000000000000001000100000000000100000000100000000000000000000000000000000000000000000010000000000000000000000000010000010010000000000000000000000000000000000000000000011000000000000000000000000000000000000010100000000000000000000000000000000000000000000100000000000000000000000000000000000000010000100000000000010000000000000000000000000000000001000000000001000000000000000000100100000100000000001000001000000000010000000100000001011000000000000000000000000000000000000000000000001000000100000001000101110000000000000000000000000010000000000100000000000000000000010000000000001000000000101000010000000000000100010001001000000000010000100100000000000000000000000000000000000000000000000000000000100000010000000100000000000000010000000000000000000000000000000000000100000000000000000000000100000000000000000000000000010000000000000000000000000000000000000000000000000000000000000001000000000000000000000000000000000000000000000000000000000000001000000000000000110000010000001000000000000000000000100000000000000100000000000000100000000000000000000000000000000000010000000000000000000000000000000000000000000000000000001000000000000011001000000000000000000001000000000000000100000100000000010100000000000010000000000000000000000000000000010000000000000000000000000000010000000000010010000010000000000000000000000000010000000000000000000001000000000000000000000000000000000000000000000000000000000000000010000000000100000001000000000000000000000001000000000000000000000000000000000010001000000000000000000100000000001000000000000000000000000010000000000000000010000000000000000100000010000000000000000000010000000000000000000010000000000001000000101000010001000000000000000000000001000000000000110000000000000000000000000000000000001000010000100000000000000000000100000100100000000000000000000000100001000000000000000000000100000000000000000000000000000000000000000000101000000001000000000000000000000000010001000000000000000000000000000000100000100000000000000000000010010000000000001000010000000000000000010000000000001000000001000000000000000000000000000000000000000000110001000000000000000000000010000000000000000000000100000000000000000000000001000000000000000110000000000000000000000000000000000100000010000000000000000000000100000000000000000000000000000000000000000000000000001000000000100100000000000000000000000000000000000000000000000000001010101000100000000000000000000000110000000000000000000000000000000010000000000000001010000000000001000000000000000000000000000000001000000000000000001000100000010000001000000000000000000000000000010000000001000000000000100000000000000000000000000001000000000000000000000000000001000000100000001000000000000000000000000000000010000000000010001000000000000000000000000000000100010000100000100000001001001000000100000000010000000000000100010000001000000000000010000000000000000000000010000000000000001000000000000000000000000000100000000010000000000100000000010010000000000000000000100000000000100000100100000010000000010100000000110001000000000000010000010000000100010000000001001000000000000000000010010100000000000000000000000000000100001000000000000000000000010000001000010000000100000001000000000000000000000000000000000000000000001010000001100000000000000000001000001001000000000000000000000001000001000001000000000010000000000000000000000000000010000010000000000010000000100000001100000000000000000000000000000000000000000000001000000010000000000000000010000000000000000000001000000100000000000010000001000000001000000000000000000000000000000000000000000000000000000000000000000100000000000100000000000000000000000000000000000100000000000000100000000001000000000000000000000000000000000000000000000000000001000000000100000000010000000000000000000000000000001000000000000000000000000010000010001000000000000000000000000000110000000000000000100000000000001000000000000000000000000000000000000000000000000001000000000000000000000000000000000000000000000000000000000000000000000000000000000000000000000000000000101000000100000100000110000000000000000000001000000100000000000010000000000000000000001000000000000010000000000000000000000100000000000010000000000000000000000010000000000000000000100000000000000000000000000000000000000000000010000100000010000000000000000000000000100000000000000010000000000000000000001000000000000101000001000000000000001000000000000100000000000000000000000001000000001000000000000000000010000000000000000000000000000001000000000000000100000000000000100001000000000000000000110000000100000000000000000000000000000000000000000000000000000000010000000000000000000010000000000000000000000000000001000000000001000000000000100000000000000100000000000010000000000100000010100000000000000000000001000000001000001000000000000000000000000000000000000000000000000000000000100000000000100100000000000000000000001000000000010000000000000000100000000000000000000000100000000000000010000000000000000010000000000000000000000000000000000000000000000110000000000000000000000000000000000000000000000000000010001000000011000010000000000010000000000000010000000000000000000000000000000100000000100000000000000000000000001010010000000000000000000000000000010000000000000000000000000001000000000000000000000000000000000000000000000000001000000000000000000000000000000000000000000100000000000000001000000000000000000000001101000000000000000000000000000000000000000000000000000000000000000000000000100000000000000000000000010000000000010000000000000000000001000000000000000000000000000000000000100000001000000010000000000000000000000001000000100010000000000000000000000000000000000000000000000000000000000000000000000000000000000001000010100100001000001000000000011000100000000000000000000000000000000000000001000000000000000110001000000000000000000000000000000000100000000100000000000000000000000000000010000000100100000000000000000000000000100000000000000000000000000000010000010000100000000000000000000000000001000000100000000000000000000000000000000000000000001000010000000000100000010100000001000011001000001000000000000000000000000000000000000000000110100000001000000000000000000000000001000000000010001000000000000000101000100000000000000010000000000000000000000000000000001000000000000000000000000010000000000000000000001000000000000000000000000001000000000000001000000000000000100000000000000001000000000001010010001000000000000000000010000000000000010000000000001000000000000010000000000000000010000000000001001000101000000001000000000001000000000000000000000000110000000000000000000000010000000000001000000000001000000000000000000000101000000000000000000001001100010100000000001010000000000000000000000000100000000000000000000000000100000000000000001000000000000000000000000010000000100000001000000000000100110000000001000000000000000000000000000000000000001000000100000010000000000000000000000000000001000000000000000000000000010000000010000000000000000000000000000000000000000000000000000000000000000000000000100000000000100000010000000000000000000000000000000000000000000000000000000000100000000000100100000000000000000000000000000000000000000010000000000100000000000000000101000100000000000000000000000000001000100000001000000000000000000000000001000000000000000000010000000000000010000000001000000010000100000100000001000000000000000000100000000000000000000000000000000000000000010010001000001000010000000100000000000000100000000000001000000000000000000000000010000100000000001000000000000000000000000000000000000000100000000000000000000000000000000000000000000000000010000000000000000100000000000000100000000000000000000000000001000000000000000100000000000000000000010000000000000000000000000010000000000000000000000000010010000000000000000100000100000000100000000000000000000000000001001000000000000000000000000100001100000000000000000000000000000100000000000000100000100000000000010000001000010011001000000000000000000000010000000000000000000000000100000000000000001010000001000000000000010000000000000000000000000000000000000000010000000001000001000000000000000000000000000000000000000100000000010000000000000010000100000000000010000000000000000000000000000000000000000001000000001000000100000100000000000000100100000000000000000000001000000000000000100000000000000000000000000000000010000000000100000000010000000000001000000000001000000010000000000000000000000000000000000000011000000000000000100010000000100000000000000000000000010000000000000000000010000100000001000001000000000000010000000000000000000000001000000000000000001000000000000000000000000000000010000000000000000010000000000000000100000000000000000000000000000000000000001000000100000000000000000000010000000000000000000000000000000000000000000000000000000000000000000000000000000000100000000000000000000000000000000000100000000000000000000100000000000100000000000000000000000000000000000000000000000000000001000000000010000000000110000001000000101000000000000000000000100000000010000000000000000000100000000000000000000000001000000000000000000000000000000100000000000010010000000000000000001000000000000001000100000000000000000001100000000000000001000000000001000000100000000100000000000000000000000000000000000000000010000000000000010000000000010000000000000100000000000000000000000000000000000100000000110000100000001000000000000010000000010000000000100000000000000000000000000000100100000000000000000000010000000000000000000000000000000000000000000000110000000000100010000000000000000000000000000001000000000000000000000000000000000000000000000000000000000000000000000000000000000000001000000000000000000000010001000000000000000000000010000000000000000000010000000000011000010001000000010000001000000010000001101001000000000000000010000100010100000000000100000000000000000010000000000000001000000000000000100000000000000000000010000000000000000000000000000001010000000000000100001000000000000000000000000000000000001000000000000000000000000001000000000100010000000000000000000000000000000000000000000000000000000100000000000000000100000000000000010000000000100001000000000000000000000100000000000000000000000000100000000000000000000000000000000000000000000000100100000001000000000000000000000000000010110000000001000000000000000000000010000000000000000000000000000000010000000000000000000000000000000000000000000000000000001000000000000000000000001010010000100000000000100000000000000010000000000000000000000000010000000000000000000001000000000000000000000000000000000000000000000000000000000000000000000000100000000000000000000000010000010000000000010000000010010000000000000000000010000000000001000000010010100000010010000000000000000000000001000000000000010000000000001000100000000000000000000000000000000000000000001000000000000000010000000000000000000000000000000000000100000000000000000000000000000010100000000000000011000000000000000000001000000000000000000000000000000000000000000010000000000000000011000000000000000000000000000000000001000000100001000000000000000100000000000000000000000000000010000001000000000001000000001000000000100000000010000000000010000000000000000000000000000000010100000000000000000000000000010000000000010000001010000100000000000000000000000000000000000000010000000000000000001000000101000000000000000000000000001000000100000000000000000010000000000000000100000000000000000000000000000000000000000100000000000100000000000100100100010000000000101000000000000000000000001000000100001011000000010000000000000000010000000000100000000000000000000000100000101000000000000000000000010101100000000000000001000000000000010000100000000000000000000000000000000000100000000000000100010000100000000000000000000000000100000000100000000000000000000000001100000000000000010000000000000000000000000001000000000000001000000000000000000000010000000001000000100000100110000000000001100000000000000000010000010000000000000000000000000000000000000100000100000000000001000000000000010000010000100000000000000000000000000000000000000000000000000000100000000000000100000000000100000000010001000000000000010000000010000000001000000000001000000000000100000010000000100000000000100000000000000000000000011000000110000000000000000000000001000000000000000001000000000000000000010100000000000010000000010000000000000000000000000000100001000000100000000000001000000000100110110000000100000000000100100000000001000000100000001000000000001001000000000100000001000000000000000000000101000000000000000000000000000000000000000000000000000000100000000000000010000000000000000000000000000000000000000000000100000010010000000000000000011000001000000000101000000000010001000100000000000000000000000000000000000011001000000000000000000000000001000000000100001000000000000000100001010000101000000000000000000000000000110000000000000000000000000000000000001000000000000000000000000000100000000010000000010000000000100000000000000000000000000000000000000000000000000000000000000000000000000000000000000000000000000010000000000000000000000000100100000000000010000000000000000000000000000000000000000110000000000000000000000000110000000000010000000010010000000010000000000000000000000000010000100000000000000000000000000000000000001000000000000001000100000000000000000000010000010000100000000000000000100100001000001000010000000000000000000000000000000100000000000010100001000010000000000000000000000001000010000000000000000000000000000000000000000000100000000000000000000000000000000000000000000000000000000010000000001000000000100000000000000000000000000001000000000000000000000000000000000000000000000100000000000000000000010000000000000000000001000000000000010000000000000000000000010000000000000000001000000000000010000000000000000010000000000000010000000000000000100000000001000000000000000000000000010000010000000000000100001000000000000000001000000000010000000000000000000000000000000001010101100000001000000000000000000000000010010001000000000000000000011000000100000000000010000000000000010000001000000000000000000000010000000000000000000000000000001000000011110000001000000001000000000100010000000000000000000001000100000100000000010011000000000010000000000000000000000000010000000100000000000000000000000000001000000000000000010000000000000000010000000000001000000000000000000000010000000000000000000000000000000000000000000001000000000000000000000010000000000001000000000000000000100000000010010000010000000000000000100100010000000000000000000100000000000000000000000000000000001000000000100000001000000010000000000000000000100000000000011000000000000000000000000000000000000000000000000001000000000000001000000100000000000001010000000000000000000000000010010011000000101000000000000100000000000000001000001000000000000000100001000000000000000000000000000000000000000000010000010000000000000000000000000000000000000010000000000000000000000000000000000000000000010000000000000000100000000000100000000000000000100000000000000000001000000000000000010000000000000001001000000100000001000000000000000000000000000000000000100000000010001000000000000000001000000000000000001000000000100000000000000000000000000000000001000000000000000000000000000010000000000010000100000000000000000000000000000000000000001000100000100001000000000000000000000000000010000000000000100010000000100000000000000000000100000000000000001000000000000000000110100000000000000000000000000001000000000000000000000000001000000000000000000000000000000001000000000000000000000000000000000000000000000000000000000000010000100000000010000000010000000000010000000000000000000001100000001000000001000000000000000000000100000000000000000000000000000000000000000010000000000000000100000000000000010000000010000011100000000000000000000101000100000000000000000000000000000000000000100000000000000000000001000000000100000000000000000000000000000000000000000000000000000001100000000000001000000000100000000000000011000000000000010000000000000000001001000000000000000000000000000000000010000000000000010000000000000110000000100001000000000000000000010000010000000000000000000000000100000000000000000000010001010000000000000000010001000000000000000000000000000000010000000000000000000000000000010000000000000001100000100000000100100001001000100100000000000000000000000000000000000000100000000000000000000000000000000000000000000000000100000000010000000000000000000000010000100000000000000000000000000000000000000000000000000000000000000000000000000010100000001000000000000000000000000100000000000000000100000000000000000000000000000001000100000000000000000000000001000000001100000000000000000000000100000000010000000000000000000010100000000000000001000100001000010000000100000000101000001000000000000000000000100000000000000000000000100000000000000000000000000010000000000001000000000000000000000000001000001000000000000000000000000001010000001001000000000000000000000000000100101000000010000000000000000000000000001000000000000000001000000000000000000000000000000000000000000000100000000000000000000000000000001000000000000000000000000000000000000000000000000000010000000000000000000001000011110010010000100000000000000000000000000000000000000000000001000000000000010000000000000000000100000000000000100000000000000000000000000000000000000010000000000000000000000000100000000000000000010100000001001000000000000000010000000000000000000000000000000000100000000000100000000100001000000000001000000000100010000000100000000001000000010000000000000000000000000000000000000000000000000010000000000000000100000000000001000000000000000000010000000000000000100010001010000000000010100000010000000000000100000000000000000000100000001000000010000001100000000000000000000000100000000000100000000010000000000100000000000000000000001000000000000000010000000000000000000010000000000000000000000000000000000000000000000010100000000000000000000010000000000010001000000000000000000000000000000000010000000001000000100000000000000000000000000000000000000000000001010000000000000000001000100000010000000000000010000000100000000000000010000100011000001000000000001000000000000001000010000000000000100000001000000000000000000000000001000000010000101000000010000000000000000000000000000000000000100000010000000000000000000001000000000000000000010000000000000000001000000000000000000000000001000000000000101000000000000000000000000000000000000000100000000010000000000100100100100000000000000000000000000000000000000000101000001000000000000000000001000000010000001000000000000000000000000000000000000000000000000000000000000000100010000010000000000000000100000000000001000000000001000000000000000000000010000000000000000000000000000100000000000000000000010000010000000000000100000000000101000001100000000000000000000100000000001100000000000000000000000010100000000000000000010000010000000010000000000000000000000000010000001000000100000001000000000000000000000000010100100000000000000000000000000000000000000000000010000000000000000000110000000010000000100000000000000000100000000100000010000000001000010000000000000000000000000000000000000100000010001000000000000000000000001000000000000000000000000000000000000100000000000000100000000000000000000000000000100000000000000000000000000000000000000000000100000000000000000000000000000000000000000000000000010000100000000100000000001000000100100000000000000000000000000000000000000000000000010000001001000000000000000000000010000000000000000000000000000000000000000000100100000010010100000000000001000000000001000001001010000000000000100000000000000001000000000000000000000000000000000000010000000000000001000000000010000000000000001001000000000000100000000000001000100000100000000000000000000000000000101010000000000000000000000000100000000000000000000000000000000000000010000000010000000000000000000000000000000000010000100000000000000000000000000000001000001000000000000010000000000000000000000000000000000000000000100000000000011000000000000110000000000001010000000000000000000000100000000000000000000000000000010000000000001000000000000000000010001000010000000000000000000000000000000000000000000010000100000000000000000000000000000100101000000001001100000000000000000000000000000000001000000000000000000000000000000000000001000000000000100000000010000000000000000000000000000000000001000000001000000000000000000000000000000001100000000000000000000000010000100000000000000000000000000000100010000000000000000000000000000010010000000000000000000000010000000100010000000100000010000000000010000000000000000000100000000000000000000000000001000000000010000010000100001000000000000010000000000000000100001000000000000001000000000100000000000000000000000000000000000000000000000000010000000100000100000000000000000000000000100001001000000000000000000000000001000000011000000000000000000000000010000000000000000000000001000000000000000001000000000000000010000000000000000000000100001000000000000000000000000000000001000000000000000000000000000000101000000000000100000000000100000000100000000100001010000000001000000000000000000001010000000000000000000001000000000000000000100000000000000000000000000000000000100000000001000000100100000000000000010000000000000001000000000000000000000000000000000000000000000000000100000000000000000010010110000000000000010000010100001010000000001000000000000000000100000000000000000000000001000000000000000000000000000000000000100000000000000000000000000001000010000000010001100000000000000000000000000000000000001000000010000100110000000010000000000000000000000000000000000000000010010000000000000000000000000100000000000000000000000000001000000000000000000010000000000000000000010000000000000000001000000000000000000000000000000000000001000000000000000000000000000100001000000100000010000000000100000000000000000000101000000000000100000010000000000000000000000000000000000000000000000000000000000000000100010000000000000000000001100000000000000000000010000000000000010000000000000000000000000000000100000000000000010000000000000000000000000000000000000000000000100000000000010000000000000000000000000000000001000000000010000100000000000000000000000000100000000000001000000000000000000000000100000000000000000000000000000010010000000000010000000000000000000000000000000000000000000000000100000000000000100000000000000000000000000000000000010000010000000000000000100000000010000000000000000000000001000100100000000000000000000100000000100000000000000000000010000000000100000000000000000000000000000010000000000100000000000000000000000000000010000100110000010100000000000000000000000000000000000011000000000000000000000000001000000000000000000000000000000000000000000000000000001010000000000000000000000000000000000000000010000000000000000000000000000001000000000000000000000000000000000000000010000001000000000000000000000000000000001000000000000010000000000001000100100000010000000010000000001000000000000000010001000000000000000000000000100000010000000000000000000001000000000000010000001010001000000000000000000000000000000000000000000000001001010000100000000000000000000000000000001000000000000000001000000001000000000010100010000000110000000000000000000000010010000000000000000000000000000000000000000000000100000000000000000100000000000000000000001000000100000000001000000000000000000101000000000000000000000001000000000000000000000000000000000000000000000010000000000001000000000000000000001000000000000000000000000000000000100000000000000000010100010000000000000000000000000000100000000000000000000000000000000010010000000000000100100000000000000000000000000000000000000000000010000000000000010000000000000010010010000000000000000000000000000000000000000000001000000000100000000010001000000000000000000000000000000000000000000001100001110000000000001000000000000000000000000000000000000000010100000000000000000000000000000000000000000000000001000100010001000000000000000010000000000000100000000000000000000000000000000000000000000000010000001100000000000000010010010100000000100000000000000000001000010000000000000000000000000001000000000001000000000000000000000000010000001000000000000101000000010000000000100100000010000000000000010000000000000010000000010000000100100000000000000000000000010000000000001000000000000000000000000000000010000000010000000000000000000010000001000000100000000000000000000000000000000000000000000000000000000000011111010000000010000000000000000000000000000000010000000010000000000000000000000000000100000000010001000000000000000000000100001000000000000000000000000000000001000000000000000000000100000000000000000000000000000000000000000000000000000000000100000000000000000000000101000000010000000000000000000000000000000010000000000000000000000000000000000010000000000001100000010000000000100100000000000000000000000010000000010000000000000001000000000000000000000010000000000001100000000010000010000000000000000000001000010100000000000100010000000000010000000000000000000000000100000000000000000000000000000000000000000000000010000000000000000000000000000000000010000000000010000000010000000001000000000000010000000100010000000100000010000000000000000000000000000000000000000000000000010000010100000010000000000000000000000000000000000010000000000000000000010000000000000000000000000000000000000000000100000000000000000010000000100000000010000000000000000000000000010000000000000000000000000000000000001000000000000000000010010000000000000000000000000000100000000000000000000000100000000100000000000000000100000000000000000000000000000000000000000100000000000000000100000110000100000000100000001000000000000000000000000000000000000000000000000000000000000110000000000000000000000000000000000000000000010000000000000100000000000000000010000000000001000000000000000000000000000000000001001000000010000000000000000000000000100000000000000011000000000000000000001000000000000000000100000000000000000000000000000001000000000000000000000000000010000000001000000001000000000000100000000000100000000001000000000000000000000000000000000000000000000000000000000000000100000001000010000000000100110000000000000100000000000000001000000000000000000010000000000000101000000000000000000000000000010010000010000000000000000100000000000000000000000001000000000000100010001000000000000000100000000000000110001000000000100000000000000000000000000000000000000000000100000000000000000000000000000000000000000000000010000000000010000000000000100000100000000000000000000000000000000000000000000000100000000000000000000000010110110001000100000001010000000000000000000000000000000000100000001000000000011010000000000000000000000000000001010100000000000000001000000000100000100000000100000000000010000000000000000001000100000000000000000000100000100000000000000000000000100000000001000000000000000000000000000000000000000010000000001000000100000000000000000000000000000001000000000000000001000000000000000010000000000001000000000000000000000000100000000000100000000000000000001000000000000000000000100000000000000010000010000000000100100000010000000000000101000000000000000000001001000000010000000000000000010010000000000000000001000000000000000000000000000000001100000100000000100000000000100000010000000000000000101000000000000000000010000000001000000000000000000000000010000000000101010000010000000010100001001001000000010000000000000000000010000000000000000010000100000010000000000010000000000000000000000000000000000100001000000000000000000010000010000000100000000000000010110000000000000001000000000000000001010000010000000001000000010000000001000000000000000010000000100000100000010000000000000000000000000000000000010000000000000010100000100001000000100001001000000000000000000000000000000000000000000000000000000000000000000000100000000000000000000000000000000000000000000000000000000010000000000000000000001010000000000000000000000000001000100000000000000000000000010000000100000000000000000000000000000000000100000010000000000000010000000000000000000001000000000000000010000000000000000001000000000000000000000000000000000000000000000100000000100000000000000000000000000000000000000001000100000000000000000010000000100000100000001000001000000000100001001000011000000101000000000100001000000000000000000000000000000000010000000000000010000000000000010101000000000000000000000000000000001000001000000011000010000000000000000100000000110000000001000000000000000000000000000000000000000000000010000000000001100000000000101000000000000000000001000001000001000000010010000000010000000000010000000000000001000000000000000000000000000100000000000000000100000000000000000000100010000000100000000000000000000000000000000000001000000100000000000000010000000000010000000000000000100000000000000000001010100000000010000000000000010000000000000001000000000000000000000000000000010010110000100000100000000000000000000110000000000000000000000001000000000000000010000000100000000000100000000100000000000100000000010000000000000000000000000000000000000010000000000000000010000000100000001000001000100000000000000100000000100000000000000000000100000001000100000000010010000100000100000000000000000000000000010000000000000000100000000000000000000000000000000000100000000000000000000000000000000000010000000000001001000000000000000000000000001000000000000100100100000000000000000000000010000000000000001000000000000000000000000000000100000000000000000000000000000000000000010000000000000000100000000000000001000001000000010010000000000000000000000001100000110000000000000000000000000000010100000000000000001000000000010100000000000010100100000000100000110000010000110001000000000000000000000000001000000001000100010000000010000000100000000000000000000000100100000001000000000000000010000100000000000000000101000001000000000000010000000000000000000000001010000100000000000000100001000000000010000000010001000000001000000000100000000101000000001000100000000000010000100001000000000000000100000000000000000000000000000001100000000000000000000001000000000000000000000000000000000000000000000000000000100000000000000000000000000000000000000000000000010000000000000000000000000000001000000000000000000010000000000100000000000000000100000000000001000000000001000000000000000000000000000000011000000000100100001001000010000000000000000000000000000000000000000000000000000000100000000100000001000000000000000000000000000000000001000000000000000000000100000000001000001010000010001000000000000000000000100010000010010000100101000000011000010000000000000000000100010000000000001000000000000000000000100000000000000000000001000001000000000000000000000000000000000001001000000000000000000000001000100000000000000000100000000000000000000011000000000010000000000000000000000000000000100000000000000000000000000000000000000010000000000000100001000000000000000000000000010100000000100000010000000000000000100000000000000000000000001000000000000001000000000100000000000000000000000000000000000000000000001000001000000010000000000000000000000000000000000000000101000000110000000000000000000000000000000000001000000000000100000010000001000000000000000000001000000100000100000000000000000000000100000000000000000000100000001000001000000000000000000000000000000000000000010101000000000000000000000000010000000010000000100000000000000000000000000000000100000000010000000000001000100000000000000000000000000000000100000000000010000000000001100000000000000000000000000000000001100000000000000010010000010000000010000000011000000000000000000010000001000000100000000000000000000010000010000000000000000000000000001000000000000000000000000000000000000000000000000000100000000000000000010000000011010000000000000000000000000000000000000000000000000000000001000000010000000000000000000000000010000000000000000000000000000000011000000000000001000001000000000000000000000000001000001000000000010000000000000000000000000000000000001101000000000110000000000100010000000000000000000000100000000000000000000000000000000000000000000000000000000001000011000000000000000000010000000000000000000000000000000000000000000000000000000000000000000010000100000000010000000001000000001000000000000000000000001010000000000100000000000000000000000000000000000001000000000000000000000000000000000000000100000000000000000000100000000000000001000000000000100000000000000001000000000000000000110000000000000000001000000000000000000000000000000100000000000000000000011000000000000000000000000000010000000000000000010000000000000000000000000000000000000000110001000000000000000000000000100000000000000100000010000000000000001001000000000010000000100000000000100000000100000000000000000000000000010000010000000000000000000100001000000000000000000100000000101000000001000000000100000000000000000000001000010000000000000000000000000000000000000000011000010000000000000000000000000000000000000000000000010000010000000000000000000000000000000000000000000000000000000000000101000010000000000000000000000000000000000000000000000000000000000100000100000000000000000100000000000000000000000000000000000000010000010000000000001110000000010000000000000000000100000000000010000001000000000100010000000000000000001000000000010000000000010000000000000010000000000000000000100000000000010000000000000100000000000000000100000000000000000000000000000001000000000000000000000000000000000000000000000000000000100000000100000000000000000000000000000000100000000000000000000000000000000000000000000000000000000001000000000000000000000000000000000000010000000000000001000000000000100000000000000000000010000000000000000000001000100000000000000000000000000000000000000000101000000000010000100000000010000000001000000000000000000000000000000000100000000000010000000010000010001100000010010000001000000000000000010100000100000000000000000000000000000000000000000000000000010001000011000000100000000000000000000010000001000000000000010000000000000101000000000000000000000000000000000000000000000000001000000000000100000000000000000000000000000000000000000000000000100000000000000000010110000000000010100010000001000000100000000000100000000000000000000000000010000000000000000100000000000000000100000000000000000000000000000000000000000000000001010000000000000000000000000000000000000010000000000000000000001000000000000000000000001000000000000000010100000010000000000000000000000000000000000000000000010000000000000000000000000000000000010010000000000000000000100000000000001000000000000000100000000010010000000000000000100000000000000000101000000000000000000100010000000000000000000000000001000110000000000000000000010000000000100100010000000000000000000000000000000000001100000010000001100010000000000000000010000000000000000000000000000000000000000100000100000000010001000000000000010000100000000100000001000000000000000000000000101000001000000000000000000000001110000000010000010000001000100000010000100000000100000000000000000000000000011000000000000000000000000000000000000000000000000010000000001000000000000000100000000000000000000000000000010100000000000000001010000000000000000000000000000000000000000000000000010000000100010000000000000000010000011000000010000100101000000000000000101000000000000000000000010000000001000000000000011000000000000000000000000010000000000000000000000000000000000000000000000000000100000000000000000000000000000000000000000000000001000000000000000000010000000000000000000000000000000000000000000000000000001000101000000000000000001000000110000000000000000000000000000000000000001000000000000000000000000000000000000000000001000000000000001000000000000100000010000011000000000000000001000000000000000100110000100000000000000000001000000000000000000000000000000010000000000000000010000100000000000001000010000000000000000000000000000000000000010010000000000001001000000000000000010000000010000000000000000000010000010010000000000000000000100010000000010000000000000001000000000000000010000000000000100100000000000000000000000000000000000000000000100000000000001000000000000000000100001000000000010000000000100000000000000100000000000000000000000000100000000000000010000000000100000000000000000000000011000000000000001000000000000000000000100000000000000000000000000000000000000000000000000000000000000000000000001000000000000000000000000000000000000000000000100001100000000001000000000000000000100000100010000000000000101000000000000001000000000000000000000000000000000000000000000100000000000000010100000010000000100000000000000000000001000000000000100000000000000001000100100000000000000000000100000000000000000000000000000000010001000000000000000000000100000000100000000001100000000000000001000000000001000000000000000000000000000000000000000000010000000000000000000000000010000000001100010000000010010000010000000000000000000000000000000101000001000000010100000000000000000000000000000000000000000100000000000000000001000000000000000000000000010000000000000000000000000000001010000100000000010000000000000100000000000000000000000000000001000000000000000000000000001010000000000000000000000000000001000000000000000000000000010000000000000000000000000000000001000000000010000000010000000000000000000000100000000000000000000000000000000000000000000000000000000000000000000000000010000000000001000000000000000001000000000100000000000000001000000000000000000100000000000000000000000000000000000000000000000000000000000000000000000000000000000001000000000000101000000000000000000000000100000001000001000000000001000000000000000000000000000000000000000100000000000000000000000000000000000000000000000000000000000000001000000000000000000000000000000000000000001000000000001000000000000000000000000000100000000000001000000101000100000000000000001001000000000100000000000000000000010000000000000000000010000000000000010000000000000000000000000000000000000000010010000000000000000000000010000000000000000000100000000000000000000000000000000000000000000000000000000100000000000000001010000000000000000000000000000000100000001100000000100000000000000000000000000000000000000000000000000001000000001000000000010000000000000000000000001000000000000000000000000000000000100000000000000000001000000000000000000000000000000010000000000000000000100000000000000000000000010000000000000000000000000000001000000001000000000000000000000000000000000000000000000000000000000000000100001000000000000000010010000000000000000100000000000001010000001000000000000000000000000001000000000010000000000000000000000100000001000000001010000000000001011000000100000010000000010000000000000000010000010000100010100000000100001000000000000000000010010000000000001000000000000000000000000000000000100000000100001000000000000000000100000000000000000000000000000000000000000000000000000000000000000000000000000000100000100000000000000000000000000000000000000000000000000000000000000000000010100000000000000000000000000001000000000000100000000000000010000000000000000000000000000000000000100001000000101000001000001000010000000000000100000000000000000100000000000000000010000000000101000000000000000000010110010000000000100000000000000000001000100000100011100000000000000000000100000000000000000000000000001000000000100000000010000000000000000000100000000001000000000000000000001000000000000100001000000000000001000000000000000100000000100010010000010000000000000000000000000000000000001000100000000000000000000001000000000000000000000000000000000000000000000000000000001000000001100000000000000000000001000100000001000000000000000011000000000000000000100000000000000000000000001000001100010000000000100000000000000100000000001000000000000000100000000000000000000010000000000000000100001000000001000000010000100000000010000000000000000000000000000000000000010000000000000000000000000000000001000000010000000000100000000000000000100000000010000000000001000001000000100000000000000000000010000000000000100100000000000000001000000000000000010001010000000000000001000000000000000000000001000000000000100000000000001000000000000000000100000000000000000000000010000000000000000001010000000000000000000000000100000100000000000000000000100000000000000110000000000000000000000000000000000000000000000000000000010000000000100000010000000000000010000000000010000000000010100000000000001000000000000000000000000000000001000100000000100100000000000000000000001000000000000010000000000000000000000000000100000000000001000000000000100100000000000000100000100000000000000000000100000000000000000000000000000000001000000000010000010000000010000000000000000000010000000000000000000000000100000000000000000000001000000000000000000000000000000000000000110000000000000000000100000000000000000000000000000000000000000000000000000000000000000000000010000000000000101000010000000000000000000000000100000000000000000100000000000000000000000000100000000000000000000000010000000000000000000000000000000000000010010000001000000000010000000000000000000000000000000000000000000000000000000000000000000001000000010000001001000000100000000000000000000000000000000000001000000000000000000000000000000010000000000000000000010000000000000000000000000100000000000000000000000000000000000000001000000000000000100100001000000000000010000000000000100000000001010100000000000000000000000000000000000000000010001000000001000000001000000010000001000000000010000000000000010000001000000000100000000000000000000000010000000000000000000000000000000000000000001000000000000000000010000000001011000001000100000000000000000000000100000000000000000000100000000000000000010000000000000000000000000000000000000000000000010001000000001000000010000000000000000000000000000000000000000000000001000000100000000001011000000000000010000000000000100000000000100000100000100000000000000000000000000000000010001000000000000000010000000000001000000000010000000001000010001000100000000000001000100000000000000000000000000000000000000000000000000000000100000000000000010001000000000001100000000000001000000000000000000000000000100000000000001000010010000000000000001000000000000000001000001000000000000000000010000000000000000000000000000000000000000000000000000000000000000000000001000100000000000000000000001000001001000000100000000100000000000000000000000000001000000000000000001000000000000000000000000000001000100000000000000000000000001000010000000000000000000000000000000100000101000000000000000000000000000010000000000000000000000000010000100000000110000000000000011000000000000000000000100000000000000000000000001000000100000000000000000000010000000000001000000000000000000000010000010000000000100000000000000000000000000000000000000000000010000000000000000000000100000000100000000000000000000000000000000000000000000000000010000000001000000000000000000100000000000000000000000000000000000000000000000000010000000000010000000000000000000000010000000001000000000000000000000000000000010000000000000000000000000000001000000111000000100000110010000000000100000000000000000000000000000000001000000000000000100000000000010000001000000000000000000000000000000000000010001000010010000000000000000000000000000100000000000000000000000000000000000000001000000000000000000000000010000100000000000000000000000000000000000000000000000000000000000000000000110000000000000000001000100000100010000000000000000000000000001000000000000000000000000000000000100000000000000000010000000000000000001000000000000000000000000010000110000100000000010011001000000000000000000000000000000000000000000000000000000000001000000110000000000000000000000100000000000001000000001001010000000000000000000000000001001000000000000000000110000001000000000010000000000000000000000000010001010000000010000000000000010000000000000000000000010000000100001100000000000000000000000000110000000000000000000000000010000000000000000000000000000100000001000000000000100001000000000000000000001000000000000001000001000000000000100000000000000000000000001000000010000000000000000000000000100000000000000001000001000000100000000000000000000000000000000000001001000101100000000000100001000000000000000000000000000000001000000000000000000000000000010000000010100000000000000000000000000000000000000000000000001000000000000000000000001011010000000000000000000000000000000000000000000000000000000000000000000000000000000000000000000000000000000000100100000000000110100100000000000000110000000000000000000000000000000000000000100000000000000000000000000000000010100000000000000000000000010000000000000000000000000000100000000000000000000000100001000000000000000000000000000000010010000000000000000010000000000000000001100000000000000000001000000010000000000000000100000100000000000000000000001000000000000000000000000001000100000000000000000100000000000000000000000100000000000000000000000000101000001010000000000100000000000000000000000000000000000000000000000000000010000000000000000000000000000000000000000000000000000001000000000000000000010001000000000000100000000000000000000000000000000001000000001000001000000000001000000000000000000010001000000000000000000001000000000000000000000100000000000000000000000000000000000000010100000000000000000000000000000000000100000000001000001000000000010000000001000000000001000010000000000000000000000001000000001000000000000000000000000000000000000000000000000010000000000000000010000000000000000000000000000100000000000000000000000000000000000000000000000000100000000000000000000000000000000000000000000000000000001000000001000000110000000000000001000100000000000000110000000000000000000000000000000000000010000000000001000000000100010000000000000000000000001100000000000000000000000000000000000000000000000000000000000001000000000000000000000000000000000000000000000000000000000000000000000000000010000100000100000000000000000000000000000000000010000000000010000000000001001000000000000100010000000010000000011000010001000000000000000000000000100000000000000000000000000000100000010000011101000000010000100000000000000000000000000000000100000010000000000000000010000010000000000000001000000000000000000000000000000000000000000001000000001000100010000000001000000001010000000010000010000000100000010000000000001000000010000001000000000000000100000000000000000000000000000000000000000000000000000000000000000100010000000100001000000000000000000000000000000000000010000000000000000000000010001010000000000000000000000000000000001100000000000000000000000000000000000000000000000000000000000000000011000000000000000010000000000000000000000000100010000000001000000100000000000100000000000000001100001000000010100000000000000000000000000000000000000000000000000000000000000000000000000000000000000000000000000000000000000000100000000001000000000000000000000000000100000000000000000000000000001000000000000000100000000000000100000000110000000000000000000000000000001000000000000100000000000000000000000000000010001000010000000000000000000000001000000000010000000010000000000000000000001000000000000000000000010000001000000000000000000000001000000000000000000000000000100000010000000100000000000000000010000000000000010000000000000000000000010010000000100000000000000000010000000010000000000000000000000001000000000000000010000110000000000000000000000000000001000000000000000000000000000000000001001000000000000000000000000000000000000000000000000000000001000100000000100000000001000100000000000001000000010000001000101010000000000000000000000000000000000000000000001000000000000000000000000000100000000000000000001000000000000100000000000000000000000000000000000100000011000000000000001000000000000000001000000000000000000000000000000000000000001001000000000000000000000000000000000000000000100010000101000000001000000000000010001000100000000000000000000001000001001000000000000000000000000000000000000000001000000000000000000001000000000000000010001100000000000000000000000000000000000001'"
      ]
     },
     "execution_count": 65,
     "metadata": {},
     "output_type": "execute_result"
    }
   ],
   "source": [
    "pred_str"
   ]
  },
  {
   "cell_type": "code",
   "execution_count": null,
   "metadata": {},
   "outputs": [],
   "source": []
  },
  {
   "cell_type": "code",
   "execution_count": null,
   "metadata": {},
   "outputs": [],
   "source": []
  },
  {
   "cell_type": "markdown",
   "metadata": {},
   "source": [
    "### CV-LB"
   ]
  },
  {
   "cell_type": "code",
   "execution_count": 66,
   "metadata": {},
   "outputs": [],
   "source": [
    "CV_LB_T = [0.6604046242774567, 0.654, 0.45]"
   ]
  },
  {
   "cell_type": "code",
   "execution_count": null,
   "metadata": {},
   "outputs": [],
   "source": []
  }
 ],
 "metadata": {
  "kernelspec": {
   "display_name": "Python 3",
   "language": "python",
   "name": "python3"
  },
  "language_info": {
   "codemirror_mode": {
    "name": "ipython",
    "version": 3
   },
   "file_extension": ".py",
   "mimetype": "text/x-python",
   "name": "python",
   "nbconvert_exporter": "python",
   "pygments_lexer": "ipython3",
   "version": "3.7.0"
  }
 },
 "nbformat": 4,
 "nbformat_minor": 2
}
