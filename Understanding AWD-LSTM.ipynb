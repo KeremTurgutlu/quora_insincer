{
 "cells": [
  {
   "cell_type": "code",
   "execution_count": 1,
   "metadata": {},
   "outputs": [],
   "source": [
    "%load_ext autoreload\n",
    "%autoreload 2\n",
    "%matplotlib inline"
   ]
  },
  {
   "cell_type": "code",
   "execution_count": 2,
   "metadata": {},
   "outputs": [],
   "source": [
    "from fastai.text import *"
   ]
  },
  {
   "cell_type": "code",
   "execution_count": 17,
   "metadata": {},
   "outputs": [
    {
     "data": {
      "text/plain": [
       "tensor([[-1.3052, -0.6334, -0.1401,  0.0873,  1.2420],\n",
       "        [-1.3692, -1.7004, -0.1947, -0.1778,  1.6141],\n",
       "        [-0.3549, -0.1513,  0.8454,  1.7369, -0.9670],\n",
       "        [ 0.6069, -0.1869,  0.7809, -2.3961, -0.2939],\n",
       "        [-0.2808, -0.1767, -0.1630, -0.4773,  1.0347],\n",
       "        [ 0.3605,  0.4091,  1.3146, -0.1780,  1.2214],\n",
       "        [-1.3995,  0.0666,  0.3343,  0.3200, -0.3752],\n",
       "        [ 0.0623,  2.3191,  0.4666, -0.7327,  1.1171],\n",
       "        [ 0.3734,  0.9614,  0.0813, -0.5730, -2.0703],\n",
       "        [ 0.7993, -0.2978, -0.1363,  0.6599,  1.0855]])"
      ]
     },
     "execution_count": 17,
     "metadata": {},
     "output_type": "execute_result"
    }
   ],
   "source": [
    "x = torch.randn((10,5)); x"
   ]
  },
  {
   "cell_type": "code",
   "execution_count": 28,
   "metadata": {},
   "outputs": [
    {
     "data": {
      "text/plain": [
       "tensor([[-0.0000, -0.0000, -0.0000,  0.0000,  0.0000],\n",
       "        [-2.7384, -3.4008, -0.3894, -0.3556,  3.2282],\n",
       "        [-0.7098, -0.3026,  1.6908,  3.4738, -1.9339],\n",
       "        [ 0.0000, -0.0000,  0.0000, -0.0000, -0.0000],\n",
       "        [-0.0000, -0.0000, -0.0000, -0.0000,  0.0000],\n",
       "        [ 0.7210,  0.8181,  2.6293, -0.3559,  2.4427],\n",
       "        [-2.7991,  0.1332,  0.6686,  0.6401, -0.7503],\n",
       "        [ 0.1245,  4.6382,  0.9333, -1.4654,  2.2342],\n",
       "        [ 0.0000,  0.0000,  0.0000, -0.0000, -0.0000],\n",
       "        [ 1.5987, -0.5955, -0.2726,  1.3198,  2.1710]])"
      ]
     },
     "execution_count": 28,
     "metadata": {},
     "output_type": "execute_result"
    }
   ],
   "source": [
    "dropout_mask(x, (10,1), p=0.5)*x"
   ]
  },
  {
   "cell_type": "code",
   "execution_count": null,
   "metadata": {},
   "outputs": [],
   "source": []
  },
  {
   "cell_type": "code",
   "execution_count": null,
   "metadata": {},
   "outputs": [],
   "source": []
  },
  {
   "cell_type": "code",
   "execution_count": null,
   "metadata": {},
   "outputs": [],
   "source": []
  },
  {
   "cell_type": "code",
   "execution_count": null,
   "metadata": {},
   "outputs": [],
   "source": []
  },
  {
   "cell_type": "code",
   "execution_count": null,
   "metadata": {},
   "outputs": [],
   "source": []
  },
  {
   "cell_type": "code",
   "execution_count": null,
   "metadata": {},
   "outputs": [],
   "source": []
  },
  {
   "cell_type": "code",
   "execution_count": null,
   "metadata": {},
   "outputs": [],
   "source": []
  }
 ],
 "metadata": {
  "kernelspec": {
   "display_name": "Python 3",
   "language": "python",
   "name": "python3"
  },
  "language_info": {
   "codemirror_mode": {
    "name": "ipython",
    "version": 3
   },
   "file_extension": ".py",
   "mimetype": "text/x-python",
   "name": "python",
   "nbconvert_exporter": "python",
   "pygments_lexer": "ipython3",
   "version": "3.7.0"
  }
 },
 "nbformat": 4,
 "nbformat_minor": 2
}
